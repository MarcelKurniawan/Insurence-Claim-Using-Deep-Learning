{
  "cells": [
    {
      "attachments": {},
      "cell_type": "markdown",
      "metadata": {
        "id": "UBAc85KFE_71"
      },
      "source": [
        "## **Marcel Kurniawan**"
      ]
    },
    {
      "attachments": {},
      "cell_type": "markdown",
      "metadata": {},
      "source": [
        "## **Import library yang dibutuhkan**"
      ]
    },
    {
      "cell_type": "code",
      "execution_count": null,
      "metadata": {
        "id": "OgxJnot5-BPF"
      },
      "outputs": [],
      "source": [
        "import pandas as pd\n",
        "import numpy as np\n",
        "import seaborn as sns \n",
        "import matplotlib.pyplot as plt "
      ]
    },
    {
      "cell_type": "code",
      "execution_count": null,
      "metadata": {
        "id": "aebuC0nJ-Ysf"
      },
      "outputs": [],
      "source": [
        "df=pd.read_csv('/content/drive/MyDrive/Dataset/insurance.csv')"
      ]
    },
    {
      "attachments": {},
      "cell_type": "markdown",
      "metadata": {
        "id": "1EFaRdBLHV3z"
      },
      "source": [
        "# **1a. Exploratory Data Analysis & Data Preprocessing**"
      ]
    },
    {
      "attachments": {},
      "cell_type": "markdown",
      "metadata": {
        "id": "0nPlqHMutWe5"
      },
      "source": [
        "Pada tahap ini saya melakukan beberapa eksplorasi untuk menemukan problem dari data ini yang nantinya akan dilakukan praproses data setelahnya."
      ]
    },
    {
      "cell_type": "code",
      "execution_count": null,
      "metadata": {
        "colab": {
          "base_uri": "https://localhost:8080/"
        },
        "id": "2lVU-337KETn",
        "outputId": "d9e1d125-7bff-4424-c47e-6cd209f30539"
      },
      "outputs": [
        {
          "name": "stdout",
          "output_type": "stream",
          "text": [
            "<class 'pandas.core.frame.DataFrame'>\n",
            "RangeIndex: 1338 entries, 0 to 1337\n",
            "Data columns (total 9 columns):\n",
            " #   Column          Non-Null Count  Dtype  \n",
            "---  ------          --------------  -----  \n",
            " 0   age             1338 non-null   int64  \n",
            " 1   sex             1338 non-null   int64  \n",
            " 2   bmi             1338 non-null   float64\n",
            " 3   steps           1338 non-null   int64  \n",
            " 4   children        1338 non-null   int64  \n",
            " 5   smoker          1338 non-null   int64  \n",
            " 6   region          1338 non-null   int64  \n",
            " 7   charges         1338 non-null   float64\n",
            " 8   insuranceclaim  1338 non-null   int64  \n",
            "dtypes: float64(2), int64(7)\n",
            "memory usage: 94.2 KB\n"
          ]
        }
      ],
      "source": [
        "df.info()"
      ]
    },
    {
      "attachments": {},
      "cell_type": "markdown",
      "metadata": {
        "id": "ry_yYVqWuHsS"
      },
      "source": [
        "Data ini memiliki 9 fitur dan terdiri dari 2 kolom bertipe float dan 7 kolom bertipe integer. Karena seluruhnya sudah numerical data, maka saya tidak perlu lagi mengganti/encode tipe datanya."
      ]
    },
    {
      "cell_type": "code",
      "execution_count": null,
      "metadata": {
        "colab": {
          "base_uri": "https://localhost:8080/"
        },
        "id": "PG9NYillGknF",
        "outputId": "cd21f277-0289-48dd-edc3-d1b85c2ebeb4"
      },
      "outputs": [
        {
          "name": "stdout",
          "output_type": "stream",
          "text": [
            "age               0\n",
            "sex               0\n",
            "bmi               0\n",
            "steps             0\n",
            "children          0\n",
            "smoker            0\n",
            "region            0\n",
            "charges           0\n",
            "insuranceclaim    0\n",
            "dtype: int64\n"
          ]
        }
      ],
      "source": [
        "print(df.isna().sum())"
      ]
    },
    {
      "cell_type": "code",
      "execution_count": null,
      "metadata": {
        "colab": {
          "base_uri": "https://localhost:8080/"
        },
        "id": "As-A3ub6v2J4",
        "outputId": "ff46b20e-58c5-4f26-c2dc-0ebdf0fa43dd"
      },
      "outputs": [
        {
          "data": {
            "text/plain": [
              "0"
            ]
          },
          "execution_count": 43,
          "metadata": {},
          "output_type": "execute_result"
        }
      ],
      "source": [
        "df.duplicated().sum()"
      ]
    },
    {
      "attachments": {},
      "cell_type": "markdown",
      "metadata": {
        "id": "MwuADrbmuzwK"
      },
      "source": [
        "Pada data ini tidak terdapat baris yang memiliki missing value dan duplikasi data."
      ]
    },
    {
      "cell_type": "code",
      "execution_count": null,
      "metadata": {
        "colab": {
          "base_uri": "https://localhost:8080/",
          "height": 206
        },
        "id": "MKNQauRn_i9U",
        "outputId": "d6ff99cb-8494-4749-9a80-85477ea12524"
      },
      "outputs": [
        {
          "data": {
            "text/html": [
              "\n",
              "  <div id=\"df-3292c429-04a5-4f9b-bf50-b992c0630913\">\n",
              "    <div class=\"colab-df-container\">\n",
              "      <div>\n",
              "<style scoped>\n",
              "    .dataframe tbody tr th:only-of-type {\n",
              "        vertical-align: middle;\n",
              "    }\n",
              "\n",
              "    .dataframe tbody tr th {\n",
              "        vertical-align: top;\n",
              "    }\n",
              "\n",
              "    .dataframe thead th {\n",
              "        text-align: right;\n",
              "    }\n",
              "</style>\n",
              "<table border=\"1\" class=\"dataframe\">\n",
              "  <thead>\n",
              "    <tr style=\"text-align: right;\">\n",
              "      <th></th>\n",
              "      <th>age</th>\n",
              "      <th>sex</th>\n",
              "      <th>bmi</th>\n",
              "      <th>steps</th>\n",
              "      <th>children</th>\n",
              "      <th>smoker</th>\n",
              "      <th>region</th>\n",
              "      <th>charges</th>\n",
              "      <th>insuranceclaim</th>\n",
              "    </tr>\n",
              "  </thead>\n",
              "  <tbody>\n",
              "    <tr>\n",
              "      <th>0</th>\n",
              "      <td>19</td>\n",
              "      <td>0</td>\n",
              "      <td>27.900</td>\n",
              "      <td>3009</td>\n",
              "      <td>0</td>\n",
              "      <td>1</td>\n",
              "      <td>3</td>\n",
              "      <td>16884.92400</td>\n",
              "      <td>1</td>\n",
              "    </tr>\n",
              "    <tr>\n",
              "      <th>1</th>\n",
              "      <td>18</td>\n",
              "      <td>1</td>\n",
              "      <td>33.770</td>\n",
              "      <td>3008</td>\n",
              "      <td>1</td>\n",
              "      <td>0</td>\n",
              "      <td>2</td>\n",
              "      <td>1725.55230</td>\n",
              "      <td>1</td>\n",
              "    </tr>\n",
              "    <tr>\n",
              "      <th>2</th>\n",
              "      <td>28</td>\n",
              "      <td>1</td>\n",
              "      <td>33.000</td>\n",
              "      <td>3009</td>\n",
              "      <td>3</td>\n",
              "      <td>0</td>\n",
              "      <td>2</td>\n",
              "      <td>4449.46200</td>\n",
              "      <td>0</td>\n",
              "    </tr>\n",
              "    <tr>\n",
              "      <th>3</th>\n",
              "      <td>33</td>\n",
              "      <td>1</td>\n",
              "      <td>22.705</td>\n",
              "      <td>10009</td>\n",
              "      <td>0</td>\n",
              "      <td>0</td>\n",
              "      <td>1</td>\n",
              "      <td>21984.47061</td>\n",
              "      <td>0</td>\n",
              "    </tr>\n",
              "    <tr>\n",
              "      <th>4</th>\n",
              "      <td>32</td>\n",
              "      <td>1</td>\n",
              "      <td>28.880</td>\n",
              "      <td>8010</td>\n",
              "      <td>0</td>\n",
              "      <td>0</td>\n",
              "      <td>1</td>\n",
              "      <td>3866.85520</td>\n",
              "      <td>1</td>\n",
              "    </tr>\n",
              "  </tbody>\n",
              "</table>\n",
              "</div>\n",
              "      <button class=\"colab-df-convert\" onclick=\"convertToInteractive('df-3292c429-04a5-4f9b-bf50-b992c0630913')\"\n",
              "              title=\"Convert this dataframe to an interactive table.\"\n",
              "              style=\"display:none;\">\n",
              "        \n",
              "  <svg xmlns=\"http://www.w3.org/2000/svg\" height=\"24px\"viewBox=\"0 0 24 24\"\n",
              "       width=\"24px\">\n",
              "    <path d=\"M0 0h24v24H0V0z\" fill=\"none\"/>\n",
              "    <path d=\"M18.56 5.44l.94 2.06.94-2.06 2.06-.94-2.06-.94-.94-2.06-.94 2.06-2.06.94zm-11 1L8.5 8.5l.94-2.06 2.06-.94-2.06-.94L8.5 2.5l-.94 2.06-2.06.94zm10 10l.94 2.06.94-2.06 2.06-.94-2.06-.94-.94-2.06-.94 2.06-2.06.94z\"/><path d=\"M17.41 7.96l-1.37-1.37c-.4-.4-.92-.59-1.43-.59-.52 0-1.04.2-1.43.59L10.3 9.45l-7.72 7.72c-.78.78-.78 2.05 0 2.83L4 21.41c.39.39.9.59 1.41.59.51 0 1.02-.2 1.41-.59l7.78-7.78 2.81-2.81c.8-.78.8-2.07 0-2.86zM5.41 20L4 18.59l7.72-7.72 1.47 1.35L5.41 20z\"/>\n",
              "  </svg>\n",
              "      </button>\n",
              "      \n",
              "  <style>\n",
              "    .colab-df-container {\n",
              "      display:flex;\n",
              "      flex-wrap:wrap;\n",
              "      gap: 12px;\n",
              "    }\n",
              "\n",
              "    .colab-df-convert {\n",
              "      background-color: #E8F0FE;\n",
              "      border: none;\n",
              "      border-radius: 50%;\n",
              "      cursor: pointer;\n",
              "      display: none;\n",
              "      fill: #1967D2;\n",
              "      height: 32px;\n",
              "      padding: 0 0 0 0;\n",
              "      width: 32px;\n",
              "    }\n",
              "\n",
              "    .colab-df-convert:hover {\n",
              "      background-color: #E2EBFA;\n",
              "      box-shadow: 0px 1px 2px rgba(60, 64, 67, 0.3), 0px 1px 3px 1px rgba(60, 64, 67, 0.15);\n",
              "      fill: #174EA6;\n",
              "    }\n",
              "\n",
              "    [theme=dark] .colab-df-convert {\n",
              "      background-color: #3B4455;\n",
              "      fill: #D2E3FC;\n",
              "    }\n",
              "\n",
              "    [theme=dark] .colab-df-convert:hover {\n",
              "      background-color: #434B5C;\n",
              "      box-shadow: 0px 1px 3px 1px rgba(0, 0, 0, 0.15);\n",
              "      filter: drop-shadow(0px 1px 2px rgba(0, 0, 0, 0.3));\n",
              "      fill: #FFFFFF;\n",
              "    }\n",
              "  </style>\n",
              "\n",
              "      <script>\n",
              "        const buttonEl =\n",
              "          document.querySelector('#df-3292c429-04a5-4f9b-bf50-b992c0630913 button.colab-df-convert');\n",
              "        buttonEl.style.display =\n",
              "          google.colab.kernel.accessAllowed ? 'block' : 'none';\n",
              "\n",
              "        async function convertToInteractive(key) {\n",
              "          const element = document.querySelector('#df-3292c429-04a5-4f9b-bf50-b992c0630913');\n",
              "          const dataTable =\n",
              "            await google.colab.kernel.invokeFunction('convertToInteractive',\n",
              "                                                     [key], {});\n",
              "          if (!dataTable) return;\n",
              "\n",
              "          const docLinkHtml = 'Like what you see? Visit the ' +\n",
              "            '<a target=\"_blank\" href=https://colab.research.google.com/notebooks/data_table.ipynb>data table notebook</a>'\n",
              "            + ' to learn more about interactive tables.';\n",
              "          element.innerHTML = '';\n",
              "          dataTable['output_type'] = 'display_data';\n",
              "          await google.colab.output.renderOutput(dataTable, element);\n",
              "          const docLink = document.createElement('div');\n",
              "          docLink.innerHTML = docLinkHtml;\n",
              "          element.appendChild(docLink);\n",
              "        }\n",
              "      </script>\n",
              "    </div>\n",
              "  </div>\n",
              "  "
            ],
            "text/plain": [
              "   age  sex     bmi  steps  children  smoker  region      charges  \\\n",
              "0   19    0  27.900   3009         0       1       3  16884.92400   \n",
              "1   18    1  33.770   3008         1       0       2   1725.55230   \n",
              "2   28    1  33.000   3009         3       0       2   4449.46200   \n",
              "3   33    1  22.705  10009         0       0       1  21984.47061   \n",
              "4   32    1  28.880   8010         0       0       1   3866.85520   \n",
              "\n",
              "   insuranceclaim  \n",
              "0               1  \n",
              "1               1  \n",
              "2               0  \n",
              "3               0  \n",
              "4               1  "
            ]
          },
          "execution_count": 44,
          "metadata": {},
          "output_type": "execute_result"
        }
      ],
      "source": [
        "df.head()"
      ]
    },
    {
      "attachments": {},
      "cell_type": "markdown",
      "metadata": {
        "id": "K1zWmx6CzMF8"
      },
      "source": [
        "Pada 5 baris teratas dapat terlihat bahwa nilai setiap kolom memiliki skala yang berbeda, oleh karena itu setiap fitur yang akan digunakan harus kita normalisai terlebih dahulu datanya. Karena jika tidak dilakukan normalisasi, fitur yang memiliki rentang nilai yang lebih besar akan memberikan pengaruh yang lebih besar pada model daripada fitur dengan rentang nilai yang lebih kecil"
      ]
    },
    {
      "cell_type": "code",
      "execution_count": null,
      "metadata": {
        "colab": {
          "base_uri": "https://localhost:8080/",
          "height": 300
        },
        "id": "-VkFf-edKLnF",
        "outputId": "f3acb858-9e3c-4942-fbf4-157ee1b03ada"
      },
      "outputs": [
        {
          "data": {
            "text/html": [
              "\n",
              "  <div id=\"df-afb4dd6f-4ef8-45f5-ab6e-d9d92f5594a3\">\n",
              "    <div class=\"colab-df-container\">\n",
              "      <div>\n",
              "<style scoped>\n",
              "    .dataframe tbody tr th:only-of-type {\n",
              "        vertical-align: middle;\n",
              "    }\n",
              "\n",
              "    .dataframe tbody tr th {\n",
              "        vertical-align: top;\n",
              "    }\n",
              "\n",
              "    .dataframe thead th {\n",
              "        text-align: right;\n",
              "    }\n",
              "</style>\n",
              "<table border=\"1\" class=\"dataframe\">\n",
              "  <thead>\n",
              "    <tr style=\"text-align: right;\">\n",
              "      <th></th>\n",
              "      <th>age</th>\n",
              "      <th>sex</th>\n",
              "      <th>bmi</th>\n",
              "      <th>steps</th>\n",
              "      <th>children</th>\n",
              "      <th>smoker</th>\n",
              "      <th>region</th>\n",
              "      <th>charges</th>\n",
              "      <th>insuranceclaim</th>\n",
              "    </tr>\n",
              "  </thead>\n",
              "  <tbody>\n",
              "    <tr>\n",
              "      <th>count</th>\n",
              "      <td>1338.000000</td>\n",
              "      <td>1338.000000</td>\n",
              "      <td>1338.000000</td>\n",
              "      <td>1338.000000</td>\n",
              "      <td>1338.000000</td>\n",
              "      <td>1338.000000</td>\n",
              "      <td>1338.000000</td>\n",
              "      <td>1338.000000</td>\n",
              "      <td>1338.000000</td>\n",
              "    </tr>\n",
              "    <tr>\n",
              "      <th>mean</th>\n",
              "      <td>39.207025</td>\n",
              "      <td>0.505232</td>\n",
              "      <td>30.663397</td>\n",
              "      <td>5328.623318</td>\n",
              "      <td>1.094918</td>\n",
              "      <td>0.204783</td>\n",
              "      <td>1.515695</td>\n",
              "      <td>13270.422265</td>\n",
              "      <td>0.585202</td>\n",
              "    </tr>\n",
              "    <tr>\n",
              "      <th>std</th>\n",
              "      <td>14.049960</td>\n",
              "      <td>0.500160</td>\n",
              "      <td>6.098187</td>\n",
              "      <td>2453.643236</td>\n",
              "      <td>1.205493</td>\n",
              "      <td>0.403694</td>\n",
              "      <td>1.104885</td>\n",
              "      <td>12110.011237</td>\n",
              "      <td>0.492871</td>\n",
              "    </tr>\n",
              "    <tr>\n",
              "      <th>min</th>\n",
              "      <td>18.000000</td>\n",
              "      <td>0.000000</td>\n",
              "      <td>15.960000</td>\n",
              "      <td>3000.000000</td>\n",
              "      <td>0.000000</td>\n",
              "      <td>0.000000</td>\n",
              "      <td>0.000000</td>\n",
              "      <td>1121.873900</td>\n",
              "      <td>0.000000</td>\n",
              "    </tr>\n",
              "    <tr>\n",
              "      <th>25%</th>\n",
              "      <td>27.000000</td>\n",
              "      <td>0.000000</td>\n",
              "      <td>26.296250</td>\n",
              "      <td>3008.000000</td>\n",
              "      <td>0.000000</td>\n",
              "      <td>0.000000</td>\n",
              "      <td>1.000000</td>\n",
              "      <td>4740.287150</td>\n",
              "      <td>0.000000</td>\n",
              "    </tr>\n",
              "    <tr>\n",
              "      <th>50%</th>\n",
              "      <td>39.000000</td>\n",
              "      <td>1.000000</td>\n",
              "      <td>30.400000</td>\n",
              "      <td>4007.000000</td>\n",
              "      <td>1.000000</td>\n",
              "      <td>0.000000</td>\n",
              "      <td>2.000000</td>\n",
              "      <td>9382.033000</td>\n",
              "      <td>1.000000</td>\n",
              "    </tr>\n",
              "    <tr>\n",
              "      <th>75%</th>\n",
              "      <td>51.000000</td>\n",
              "      <td>1.000000</td>\n",
              "      <td>34.693750</td>\n",
              "      <td>8004.000000</td>\n",
              "      <td>2.000000</td>\n",
              "      <td>0.000000</td>\n",
              "      <td>2.000000</td>\n",
              "      <td>16639.912515</td>\n",
              "      <td>1.000000</td>\n",
              "    </tr>\n",
              "    <tr>\n",
              "      <th>max</th>\n",
              "      <td>64.000000</td>\n",
              "      <td>1.000000</td>\n",
              "      <td>53.130000</td>\n",
              "      <td>10010.000000</td>\n",
              "      <td>5.000000</td>\n",
              "      <td>1.000000</td>\n",
              "      <td>3.000000</td>\n",
              "      <td>63770.428010</td>\n",
              "      <td>1.000000</td>\n",
              "    </tr>\n",
              "  </tbody>\n",
              "</table>\n",
              "</div>\n",
              "      <button class=\"colab-df-convert\" onclick=\"convertToInteractive('df-afb4dd6f-4ef8-45f5-ab6e-d9d92f5594a3')\"\n",
              "              title=\"Convert this dataframe to an interactive table.\"\n",
              "              style=\"display:none;\">\n",
              "        \n",
              "  <svg xmlns=\"http://www.w3.org/2000/svg\" height=\"24px\"viewBox=\"0 0 24 24\"\n",
              "       width=\"24px\">\n",
              "    <path d=\"M0 0h24v24H0V0z\" fill=\"none\"/>\n",
              "    <path d=\"M18.56 5.44l.94 2.06.94-2.06 2.06-.94-2.06-.94-.94-2.06-.94 2.06-2.06.94zm-11 1L8.5 8.5l.94-2.06 2.06-.94-2.06-.94L8.5 2.5l-.94 2.06-2.06.94zm10 10l.94 2.06.94-2.06 2.06-.94-2.06-.94-.94-2.06-.94 2.06-2.06.94z\"/><path d=\"M17.41 7.96l-1.37-1.37c-.4-.4-.92-.59-1.43-.59-.52 0-1.04.2-1.43.59L10.3 9.45l-7.72 7.72c-.78.78-.78 2.05 0 2.83L4 21.41c.39.39.9.59 1.41.59.51 0 1.02-.2 1.41-.59l7.78-7.78 2.81-2.81c.8-.78.8-2.07 0-2.86zM5.41 20L4 18.59l7.72-7.72 1.47 1.35L5.41 20z\"/>\n",
              "  </svg>\n",
              "      </button>\n",
              "      \n",
              "  <style>\n",
              "    .colab-df-container {\n",
              "      display:flex;\n",
              "      flex-wrap:wrap;\n",
              "      gap: 12px;\n",
              "    }\n",
              "\n",
              "    .colab-df-convert {\n",
              "      background-color: #E8F0FE;\n",
              "      border: none;\n",
              "      border-radius: 50%;\n",
              "      cursor: pointer;\n",
              "      display: none;\n",
              "      fill: #1967D2;\n",
              "      height: 32px;\n",
              "      padding: 0 0 0 0;\n",
              "      width: 32px;\n",
              "    }\n",
              "\n",
              "    .colab-df-convert:hover {\n",
              "      background-color: #E2EBFA;\n",
              "      box-shadow: 0px 1px 2px rgba(60, 64, 67, 0.3), 0px 1px 3px 1px rgba(60, 64, 67, 0.15);\n",
              "      fill: #174EA6;\n",
              "    }\n",
              "\n",
              "    [theme=dark] .colab-df-convert {\n",
              "      background-color: #3B4455;\n",
              "      fill: #D2E3FC;\n",
              "    }\n",
              "\n",
              "    [theme=dark] .colab-df-convert:hover {\n",
              "      background-color: #434B5C;\n",
              "      box-shadow: 0px 1px 3px 1px rgba(0, 0, 0, 0.15);\n",
              "      filter: drop-shadow(0px 1px 2px rgba(0, 0, 0, 0.3));\n",
              "      fill: #FFFFFF;\n",
              "    }\n",
              "  </style>\n",
              "\n",
              "      <script>\n",
              "        const buttonEl =\n",
              "          document.querySelector('#df-afb4dd6f-4ef8-45f5-ab6e-d9d92f5594a3 button.colab-df-convert');\n",
              "        buttonEl.style.display =\n",
              "          google.colab.kernel.accessAllowed ? 'block' : 'none';\n",
              "\n",
              "        async function convertToInteractive(key) {\n",
              "          const element = document.querySelector('#df-afb4dd6f-4ef8-45f5-ab6e-d9d92f5594a3');\n",
              "          const dataTable =\n",
              "            await google.colab.kernel.invokeFunction('convertToInteractive',\n",
              "                                                     [key], {});\n",
              "          if (!dataTable) return;\n",
              "\n",
              "          const docLinkHtml = 'Like what you see? Visit the ' +\n",
              "            '<a target=\"_blank\" href=https://colab.research.google.com/notebooks/data_table.ipynb>data table notebook</a>'\n",
              "            + ' to learn more about interactive tables.';\n",
              "          element.innerHTML = '';\n",
              "          dataTable['output_type'] = 'display_data';\n",
              "          await google.colab.output.renderOutput(dataTable, element);\n",
              "          const docLink = document.createElement('div');\n",
              "          docLink.innerHTML = docLinkHtml;\n",
              "          element.appendChild(docLink);\n",
              "        }\n",
              "      </script>\n",
              "    </div>\n",
              "  </div>\n",
              "  "
            ],
            "text/plain": [
              "               age          sex          bmi         steps     children  \\\n",
              "count  1338.000000  1338.000000  1338.000000   1338.000000  1338.000000   \n",
              "mean     39.207025     0.505232    30.663397   5328.623318     1.094918   \n",
              "std      14.049960     0.500160     6.098187   2453.643236     1.205493   \n",
              "min      18.000000     0.000000    15.960000   3000.000000     0.000000   \n",
              "25%      27.000000     0.000000    26.296250   3008.000000     0.000000   \n",
              "50%      39.000000     1.000000    30.400000   4007.000000     1.000000   \n",
              "75%      51.000000     1.000000    34.693750   8004.000000     2.000000   \n",
              "max      64.000000     1.000000    53.130000  10010.000000     5.000000   \n",
              "\n",
              "            smoker       region       charges  insuranceclaim  \n",
              "count  1338.000000  1338.000000   1338.000000     1338.000000  \n",
              "mean      0.204783     1.515695  13270.422265        0.585202  \n",
              "std       0.403694     1.104885  12110.011237        0.492871  \n",
              "min       0.000000     0.000000   1121.873900        0.000000  \n",
              "25%       0.000000     1.000000   4740.287150        0.000000  \n",
              "50%       0.000000     2.000000   9382.033000        1.000000  \n",
              "75%       0.000000     2.000000  16639.912515        1.000000  \n",
              "max       1.000000     3.000000  63770.428010        1.000000  "
            ]
          },
          "execution_count": 45,
          "metadata": {},
          "output_type": "execute_result"
        }
      ],
      "source": [
        "df.describe()"
      ]
    },
    {
      "attachments": {},
      "cell_type": "markdown",
      "metadata": {
        "id": "RjShZhgzzNQW"
      },
      "source": [
        "Berikut adalah ringkasan statistik deskriptif dari masing-masing kolom. "
      ]
    },
    {
      "cell_type": "code",
      "execution_count": null,
      "metadata": {
        "colab": {
          "base_uri": "https://localhost:8080/",
          "height": 559
        },
        "id": "eWnXYm4gIXuG",
        "outputId": "6efe669c-7f53-4d13-b7f2-b6c04ea39ee0"
      },
      "outputs": [
        {
          "data": {
            "text/plain": [
              "<Axes: xlabel='age'>"
            ]
          },
          "execution_count": 46,
          "metadata": {},
          "output_type": "execute_result"
        },
        {
          "data": {
            "image/png": "[encoded data removed]",
            "text/plain": [
              "<Figure size 2500x600 with 5 Axes>"
            ]
          },
          "metadata": {},
          "output_type": "display_data"
        }
      ],
      "source": [
        "plt.figure(figsize=(25, 6))\n",
        "plt.subplot(2, 3, 1)\n",
        "sns.boxplot(x='charges', data=df)\n",
        "plt.subplot(2, 3, 2)\n",
        "sns.boxplot(x='bmi', data=df)\n",
        "plt.subplot(2, 3, 3)\n",
        "sns.boxplot(x='steps', data=df)\n",
        "plt.subplot(2, 3, 4)\n",
        "sns.boxplot(x='children', data=df)\n",
        "plt.subplot(2, 3, 5)\n",
        "sns.boxplot(x='age', data=df)"
      ]
    },
    {
      "attachments": {},
      "cell_type": "markdown",
      "metadata": {
        "id": "z6MnLUv8JK0u"
      },
      "source": [
        "Pada data charges dan bmi memiliki banya outliers, tetapi pada kasus ini outliers tidak dihilangkan"
      ]
    },
    {
      "cell_type": "code",
      "execution_count": null,
      "metadata": {
        "colab": {
          "base_uri": "https://localhost:8080/",
          "height": 332
        },
        "id": "GvZV3jUowEMo",
        "outputId": "141ea9c8-c78d-4050-a1ce-daf85e7447b0"
      },
      "outputs": [
        {
          "data": {
            "text/html": [
              "\n",
              "  <div id=\"df-0c6fb790-b00b-41b2-a68e-c2b017b44b9a\">\n",
              "    <div class=\"colab-df-container\">\n",
              "      <div>\n",
              "<style scoped>\n",
              "    .dataframe tbody tr th:only-of-type {\n",
              "        vertical-align: middle;\n",
              "    }\n",
              "\n",
              "    .dataframe tbody tr th {\n",
              "        vertical-align: top;\n",
              "    }\n",
              "\n",
              "    .dataframe thead th {\n",
              "        text-align: right;\n",
              "    }\n",
              "</style>\n",
              "<table border=\"1\" class=\"dataframe\">\n",
              "  <thead>\n",
              "    <tr style=\"text-align: right;\">\n",
              "      <th></th>\n",
              "      <th>age</th>\n",
              "      <th>sex</th>\n",
              "      <th>bmi</th>\n",
              "      <th>steps</th>\n",
              "      <th>children</th>\n",
              "      <th>smoker</th>\n",
              "      <th>region</th>\n",
              "      <th>charges</th>\n",
              "      <th>insuranceclaim</th>\n",
              "    </tr>\n",
              "  </thead>\n",
              "  <tbody>\n",
              "    <tr>\n",
              "      <th>age</th>\n",
              "      <td>1.000000</td>\n",
              "      <td>-0.020856</td>\n",
              "      <td>0.109272</td>\n",
              "      <td>-0.167957</td>\n",
              "      <td>0.042469</td>\n",
              "      <td>-0.025019</td>\n",
              "      <td>0.002127</td>\n",
              "      <td>0.299008</td>\n",
              "      <td>0.113723</td>\n",
              "    </tr>\n",
              "    <tr>\n",
              "      <th>sex</th>\n",
              "      <td>-0.020856</td>\n",
              "      <td>1.000000</td>\n",
              "      <td>0.046371</td>\n",
              "      <td>-0.039470</td>\n",
              "      <td>0.017163</td>\n",
              "      <td>0.076185</td>\n",
              "      <td>0.004588</td>\n",
              "      <td>0.057292</td>\n",
              "      <td>0.031565</td>\n",
              "    </tr>\n",
              "    <tr>\n",
              "      <th>bmi</th>\n",
              "      <td>0.109272</td>\n",
              "      <td>0.046371</td>\n",
              "      <td>1.000000</td>\n",
              "      <td>-0.681149</td>\n",
              "      <td>0.012759</td>\n",
              "      <td>0.003750</td>\n",
              "      <td>0.157566</td>\n",
              "      <td>0.198341</td>\n",
              "      <td>0.384198</td>\n",
              "    </tr>\n",
              "    <tr>\n",
              "      <th>steps</th>\n",
              "      <td>-0.167957</td>\n",
              "      <td>-0.039470</td>\n",
              "      <td>-0.681149</td>\n",
              "      <td>1.000000</td>\n",
              "      <td>0.055346</td>\n",
              "      <td>-0.267845</td>\n",
              "      <td>-0.076483</td>\n",
              "      <td>-0.305570</td>\n",
              "      <td>-0.419514</td>\n",
              "    </tr>\n",
              "    <tr>\n",
              "      <th>children</th>\n",
              "      <td>0.042469</td>\n",
              "      <td>0.017163</td>\n",
              "      <td>0.012759</td>\n",
              "      <td>0.055346</td>\n",
              "      <td>1.000000</td>\n",
              "      <td>0.007673</td>\n",
              "      <td>0.016569</td>\n",
              "      <td>0.067998</td>\n",
              "      <td>-0.409526</td>\n",
              "    </tr>\n",
              "    <tr>\n",
              "      <th>smoker</th>\n",
              "      <td>-0.025019</td>\n",
              "      <td>0.076185</td>\n",
              "      <td>0.003750</td>\n",
              "      <td>-0.267845</td>\n",
              "      <td>0.007673</td>\n",
              "      <td>1.000000</td>\n",
              "      <td>-0.002181</td>\n",
              "      <td>0.787251</td>\n",
              "      <td>0.333261</td>\n",
              "    </tr>\n",
              "    <tr>\n",
              "      <th>region</th>\n",
              "      <td>0.002127</td>\n",
              "      <td>0.004588</td>\n",
              "      <td>0.157566</td>\n",
              "      <td>-0.076483</td>\n",
              "      <td>0.016569</td>\n",
              "      <td>-0.002181</td>\n",
              "      <td>1.000000</td>\n",
              "      <td>-0.006208</td>\n",
              "      <td>0.020891</td>\n",
              "    </tr>\n",
              "    <tr>\n",
              "      <th>charges</th>\n",
              "      <td>0.299008</td>\n",
              "      <td>0.057292</td>\n",
              "      <td>0.198341</td>\n",
              "      <td>-0.305570</td>\n",
              "      <td>0.067998</td>\n",
              "      <td>0.787251</td>\n",
              "      <td>-0.006208</td>\n",
              "      <td>1.000000</td>\n",
              "      <td>0.309418</td>\n",
              "    </tr>\n",
              "    <tr>\n",
              "      <th>insuranceclaim</th>\n",
              "      <td>0.113723</td>\n",
              "      <td>0.031565</td>\n",
              "      <td>0.384198</td>\n",
              "      <td>-0.419514</td>\n",
              "      <td>-0.409526</td>\n",
              "      <td>0.333261</td>\n",
              "      <td>0.020891</td>\n",
              "      <td>0.309418</td>\n",
              "      <td>1.000000</td>\n",
              "    </tr>\n",
              "  </tbody>\n",
              "</table>\n",
              "</div>\n",
              "      <button class=\"colab-df-convert\" onclick=\"convertToInteractive('df-0c6fb790-b00b-41b2-a68e-c2b017b44b9a')\"\n",
              "              title=\"Convert this dataframe to an interactive table.\"\n",
              "              style=\"display:none;\">\n",
              "        \n",
              "  <svg xmlns=\"http://www.w3.org/2000/svg\" height=\"24px\"viewBox=\"0 0 24 24\"\n",
              "       width=\"24px\">\n",
              "    <path d=\"M0 0h24v24H0V0z\" fill=\"none\"/>\n",
              "    <path d=\"M18.56 5.44l.94 2.06.94-2.06 2.06-.94-2.06-.94-.94-2.06-.94 2.06-2.06.94zm-11 1L8.5 8.5l.94-2.06 2.06-.94-2.06-.94L8.5 2.5l-.94 2.06-2.06.94zm10 10l.94 2.06.94-2.06 2.06-.94-2.06-.94-.94-2.06-.94 2.06-2.06.94z\"/><path d=\"M17.41 7.96l-1.37-1.37c-.4-.4-.92-.59-1.43-.59-.52 0-1.04.2-1.43.59L10.3 9.45l-7.72 7.72c-.78.78-.78 2.05 0 2.83L4 21.41c.39.39.9.59 1.41.59.51 0 1.02-.2 1.41-.59l7.78-7.78 2.81-2.81c.8-.78.8-2.07 0-2.86zM5.41 20L4 18.59l7.72-7.72 1.47 1.35L5.41 20z\"/>\n",
              "  </svg>\n",
              "      </button>\n",
              "      \n",
              "  <style>\n",
              "    .colab-df-container {\n",
              "      display:flex;\n",
              "      flex-wrap:wrap;\n",
              "      gap: 12px;\n",
              "    }\n",
              "\n",
              "    .colab-df-convert {\n",
              "      background-color: #E8F0FE;\n",
              "      border: none;\n",
              "      border-radius: 50%;\n",
              "      cursor: pointer;\n",
              "      display: none;\n",
              "      fill: #1967D2;\n",
              "      height: 32px;\n",
              "      padding: 0 0 0 0;\n",
              "      width: 32px;\n",
              "    }\n",
              "\n",
              "    .colab-df-convert:hover {\n",
              "      background-color: #E2EBFA;\n",
              "      box-shadow: 0px 1px 2px rgba(60, 64, 67, 0.3), 0px 1px 3px 1px rgba(60, 64, 67, 0.15);\n",
              "      fill: #174EA6;\n",
              "    }\n",
              "\n",
              "    [theme=dark] .colab-df-convert {\n",
              "      background-color: #3B4455;\n",
              "      fill: #D2E3FC;\n",
              "    }\n",
              "\n",
              "    [theme=dark] .colab-df-convert:hover {\n",
              "      background-color: #434B5C;\n",
              "      box-shadow: 0px 1px 3px 1px rgba(0, 0, 0, 0.15);\n",
              "      filter: drop-shadow(0px 1px 2px rgba(0, 0, 0, 0.3));\n",
              "      fill: #FFFFFF;\n",
              "    }\n",
              "  </style>\n",
              "\n",
              "      <script>\n",
              "        const buttonEl =\n",
              "          document.querySelector('#df-0c6fb790-b00b-41b2-a68e-c2b017b44b9a button.colab-df-convert');\n",
              "        buttonEl.style.display =\n",
              "          google.colab.kernel.accessAllowed ? 'block' : 'none';\n",
              "\n",
              "        async function convertToInteractive(key) {\n",
              "          const element = document.querySelector('#df-0c6fb790-b00b-41b2-a68e-c2b017b44b9a');\n",
              "          const dataTable =\n",
              "            await google.colab.kernel.invokeFunction('convertToInteractive',\n",
              "                                                     [key], {});\n",
              "          if (!dataTable) return;\n",
              "\n",
              "          const docLinkHtml = 'Like what you see? Visit the ' +\n",
              "            '<a target=\"_blank\" href=https://colab.research.google.com/notebooks/data_table.ipynb>data table notebook</a>'\n",
              "            + ' to learn more about interactive tables.';\n",
              "          element.innerHTML = '';\n",
              "          dataTable['output_type'] = 'display_data';\n",
              "          await google.colab.output.renderOutput(dataTable, element);\n",
              "          const docLink = document.createElement('div');\n",
              "          docLink.innerHTML = docLinkHtml;\n",
              "          element.appendChild(docLink);\n",
              "        }\n",
              "      </script>\n",
              "    </div>\n",
              "  </div>\n",
              "  "
            ],
            "text/plain": [
              "                     age       sex       bmi     steps  children    smoker  \\\n",
              "age             1.000000 -0.020856  0.109272 -0.167957  0.042469 -0.025019   \n",
              "sex            -0.020856  1.000000  0.046371 -0.039470  0.017163  0.076185   \n",
              "bmi             0.109272  0.046371  1.000000 -0.681149  0.012759  0.003750   \n",
              "steps          -0.167957 -0.039470 -0.681149  1.000000  0.055346 -0.267845   \n",
              "children        0.042469  0.017163  0.012759  0.055346  1.000000  0.007673   \n",
              "smoker         -0.025019  0.076185  0.003750 -0.267845  0.007673  1.000000   \n",
              "region          0.002127  0.004588  0.157566 -0.076483  0.016569 -0.002181   \n",
              "charges         0.299008  0.057292  0.198341 -0.305570  0.067998  0.787251   \n",
              "insuranceclaim  0.113723  0.031565  0.384198 -0.419514 -0.409526  0.333261   \n",
              "\n",
              "                  region   charges  insuranceclaim  \n",
              "age             0.002127  0.299008        0.113723  \n",
              "sex             0.004588  0.057292        0.031565  \n",
              "bmi             0.157566  0.198341        0.384198  \n",
              "steps          -0.076483 -0.305570       -0.419514  \n",
              "children        0.016569  0.067998       -0.409526  \n",
              "smoker         -0.002181  0.787251        0.333261  \n",
              "region          1.000000 -0.006208        0.020891  \n",
              "charges        -0.006208  1.000000        0.309418  \n",
              "insuranceclaim  0.020891  0.309418        1.000000  "
            ]
          },
          "execution_count": 47,
          "metadata": {},
          "output_type": "execute_result"
        }
      ],
      "source": [
        "df.corr()"
      ]
    },
    {
      "cell_type": "code",
      "execution_count": null,
      "metadata": {
        "colab": {
          "base_uri": "https://localhost:8080/",
          "height": 544
        },
        "id": "c7himWscwGzg",
        "outputId": "911bb2e8-6eba-47ee-cd9c-923f7310fe42"
      },
      "outputs": [
        {
          "data": {
            "text/plain": [
              "<Axes: >"
            ]
          },
          "execution_count": 48,
          "metadata": {},
          "output_type": "execute_result"
        },
        {
          "data": {
            "image/png": "[encoded data removed]",
            "text/plain": [
              "<Figure size 640x480 with 2 Axes>"
            ]
          },
          "metadata": {},
          "output_type": "display_data"
        }
      ],
      "source": [
        "sns.heatmap(df.corr())"
      ]
    },
    {
      "attachments": {},
      "cell_type": "markdown",
      "metadata": {
        "id": "SzXYZ3MD0r8D"
      },
      "source": [
        "Berdasarkan heatmap diatas, kolom charges dan smoker memiliki korelasi yang paling tinggi yaitu sebesar 0.787"
      ]
    },
    {
      "cell_type": "code",
      "execution_count": null,
      "metadata": {
        "colab": {
          "base_uri": "https://localhost:8080/"
        },
        "id": "ufdg15lHKSUJ",
        "outputId": "1dafc52c-b7c9-4548-d258-dbf03a3611ee"
      },
      "outputs": [
        {
          "data": {
            "text/plain": [
              "1    783\n",
              "0    555\n",
              "Name: insuranceclaim, dtype: int64"
            ]
          },
          "execution_count": 49,
          "metadata": {},
          "output_type": "execute_result"
        }
      ],
      "source": [
        "df['insuranceclaim'].value_counts()"
      ]
    },
    {
      "attachments": {},
      "cell_type": "markdown",
      "metadata": {
        "id": "gbXemm41wiJ8"
      },
      "source": [
        "Karena pada kasus ini diminta untuk membuat sebuah aplikasi yang membantu\n",
        "perusahaan untuk menentukan apakah sebuah klaim yang dilakukan seseorang adalah dapat diterima atau ditolak, maka saya melakukan check terhadap fitur insuranceclaim yang berisi dua kelas yaitu ya dan tidak.\n",
        "\n",
        "Pada data ini memiliki 1338 record dengan dua kelas: ya dan tidak. Kelas \"ya\" memiliki 783 record (58.5%) dan kelas \"tidak\" memiliki 555 record (41.5%). Proporsi kelas minoritas adalah 41.5%, yang berada dalam rentang 20-40% untuk data yang tidak seimbang ringan. Jadi, data ini termasuk data yang tidak seimbang ringan.\n",
        "\n",
        "Namun masalah ini tidak dapat ditangani secara langsung dan meskipun dapat menyebabkan penurunan performa yang tidak signifikan apabila diterapkan pada model."
      ]
    },
    {
      "attachments": {},
      "cell_type": "markdown",
      "metadata": {
        "id": "kjSxNtPJ0FXm"
      },
      "source": [
        "Maka pada data ini terdapat dua problem yaitu\n",
        "\n",
        "\n",
        "*   Data imbalance\n",
        "*   Data tidak memiliki skala yang sama\n",
        "\n"
      ]
    },
    {
      "attachments": {},
      "cell_type": "markdown",
      "metadata": {
        "id": "BGaxIyrhJCxt"
      },
      "source": [
        "**Data Preprocessing**"
      ]
    },
    {
      "cell_type": "code",
      "execution_count": null,
      "metadata": {
        "id": "cF87ETLEH2lv"
      },
      "outputs": [],
      "source": [
        "from sklearn.preprocessing import MinMaxScaler\n",
        "\n",
        "# Create the scaler object\n",
        "scaler = MinMaxScaler()\n",
        "\n",
        "# Fit and transform the data\n",
        "scaled_data = [\"age\",\"bmi\",\"steps\",\"children\",\"charges\"]\n",
        "df[scaled_data] = scaler.fit_transform(df[scaled_data])"
      ]
    },
    {
      "cell_type": "code",
      "execution_count": null,
      "metadata": {
        "colab": {
          "base_uri": "https://localhost:8080/",
          "height": 206
        },
        "id": "2hdD4jzrbdfN",
        "outputId": "f5e09df0-87d3-4583-8467-d7998b907031"
      },
      "outputs": [
        {
          "data": {
            "text/html": [
              "\n",
              "  <div id=\"df-e84ada8d-a7cb-4ef0-b3d3-977df1695def\">\n",
              "    <div class=\"colab-df-container\">\n",
              "      <div>\n",
              "<style scoped>\n",
              "    .dataframe tbody tr th:only-of-type {\n",
              "        vertical-align: middle;\n",
              "    }\n",
              "\n",
              "    .dataframe tbody tr th {\n",
              "        vertical-align: top;\n",
              "    }\n",
              "\n",
              "    .dataframe thead th {\n",
              "        text-align: right;\n",
              "    }\n",
              "</style>\n",
              "<table border=\"1\" class=\"dataframe\">\n",
              "  <thead>\n",
              "    <tr style=\"text-align: right;\">\n",
              "      <th></th>\n",
              "      <th>age</th>\n",
              "      <th>sex</th>\n",
              "      <th>bmi</th>\n",
              "      <th>steps</th>\n",
              "      <th>children</th>\n",
              "      <th>smoker</th>\n",
              "      <th>region</th>\n",
              "      <th>charges</th>\n",
              "      <th>insuranceclaim</th>\n",
              "    </tr>\n",
              "  </thead>\n",
              "  <tbody>\n",
              "    <tr>\n",
              "      <th>0</th>\n",
              "      <td>0.021739</td>\n",
              "      <td>0</td>\n",
              "      <td>0.321227</td>\n",
              "      <td>0.001284</td>\n",
              "      <td>0.0</td>\n",
              "      <td>1</td>\n",
              "      <td>3</td>\n",
              "      <td>0.251611</td>\n",
              "      <td>1</td>\n",
              "    </tr>\n",
              "    <tr>\n",
              "      <th>1</th>\n",
              "      <td>0.000000</td>\n",
              "      <td>1</td>\n",
              "      <td>0.479150</td>\n",
              "      <td>0.001141</td>\n",
              "      <td>0.2</td>\n",
              "      <td>0</td>\n",
              "      <td>2</td>\n",
              "      <td>0.009636</td>\n",
              "      <td>1</td>\n",
              "    </tr>\n",
              "    <tr>\n",
              "      <th>2</th>\n",
              "      <td>0.217391</td>\n",
              "      <td>1</td>\n",
              "      <td>0.458434</td>\n",
              "      <td>0.001284</td>\n",
              "      <td>0.6</td>\n",
              "      <td>0</td>\n",
              "      <td>2</td>\n",
              "      <td>0.053115</td>\n",
              "      <td>0</td>\n",
              "    </tr>\n",
              "    <tr>\n",
              "      <th>3</th>\n",
              "      <td>0.326087</td>\n",
              "      <td>1</td>\n",
              "      <td>0.181464</td>\n",
              "      <td>0.999857</td>\n",
              "      <td>0.0</td>\n",
              "      <td>0</td>\n",
              "      <td>1</td>\n",
              "      <td>0.333010</td>\n",
              "      <td>0</td>\n",
              "    </tr>\n",
              "    <tr>\n",
              "      <th>4</th>\n",
              "      <td>0.304348</td>\n",
              "      <td>1</td>\n",
              "      <td>0.347592</td>\n",
              "      <td>0.714693</td>\n",
              "      <td>0.0</td>\n",
              "      <td>0</td>\n",
              "      <td>1</td>\n",
              "      <td>0.043816</td>\n",
              "      <td>1</td>\n",
              "    </tr>\n",
              "  </tbody>\n",
              "</table>\n",
              "</div>\n",
              "      <button class=\"colab-df-convert\" onclick=\"convertToInteractive('df-e84ada8d-a7cb-4ef0-b3d3-977df1695def')\"\n",
              "              title=\"Convert this dataframe to an interactive table.\"\n",
              "              style=\"display:none;\">\n",
              "        \n",
              "  <svg xmlns=\"http://www.w3.org/2000/svg\" height=\"24px\"viewBox=\"0 0 24 24\"\n",
              "       width=\"24px\">\n",
              "    <path d=\"M0 0h24v24H0V0z\" fill=\"none\"/>\n",
              "    <path d=\"M18.56 5.44l.94 2.06.94-2.06 2.06-.94-2.06-.94-.94-2.06-.94 2.06-2.06.94zm-11 1L8.5 8.5l.94-2.06 2.06-.94-2.06-.94L8.5 2.5l-.94 2.06-2.06.94zm10 10l.94 2.06.94-2.06 2.06-.94-2.06-.94-.94-2.06-.94 2.06-2.06.94z\"/><path d=\"M17.41 7.96l-1.37-1.37c-.4-.4-.92-.59-1.43-.59-.52 0-1.04.2-1.43.59L10.3 9.45l-7.72 7.72c-.78.78-.78 2.05 0 2.83L4 21.41c.39.39.9.59 1.41.59.51 0 1.02-.2 1.41-.59l7.78-7.78 2.81-2.81c.8-.78.8-2.07 0-2.86zM5.41 20L4 18.59l7.72-7.72 1.47 1.35L5.41 20z\"/>\n",
              "  </svg>\n",
              "      </button>\n",
              "      \n",
              "  <style>\n",
              "    .colab-df-container {\n",
              "      display:flex;\n",
              "      flex-wrap:wrap;\n",
              "      gap: 12px;\n",
              "    }\n",
              "\n",
              "    .colab-df-convert {\n",
              "      background-color: #E8F0FE;\n",
              "      border: none;\n",
              "      border-radius: 50%;\n",
              "      cursor: pointer;\n",
              "      display: none;\n",
              "      fill: #1967D2;\n",
              "      height: 32px;\n",
              "      padding: 0 0 0 0;\n",
              "      width: 32px;\n",
              "    }\n",
              "\n",
              "    .colab-df-convert:hover {\n",
              "      background-color: #E2EBFA;\n",
              "      box-shadow: 0px 1px 2px rgba(60, 64, 67, 0.3), 0px 1px 3px 1px rgba(60, 64, 67, 0.15);\n",
              "      fill: #174EA6;\n",
              "    }\n",
              "\n",
              "    [theme=dark] .colab-df-convert {\n",
              "      background-color: #3B4455;\n",
              "      fill: #D2E3FC;\n",
              "    }\n",
              "\n",
              "    [theme=dark] .colab-df-convert:hover {\n",
              "      background-color: #434B5C;\n",
              "      box-shadow: 0px 1px 3px 1px rgba(0, 0, 0, 0.15);\n",
              "      filter: drop-shadow(0px 1px 2px rgba(0, 0, 0, 0.3));\n",
              "      fill: #FFFFFF;\n",
              "    }\n",
              "  </style>\n",
              "\n",
              "      <script>\n",
              "        const buttonEl =\n",
              "          document.querySelector('#df-e84ada8d-a7cb-4ef0-b3d3-977df1695def button.colab-df-convert');\n",
              "        buttonEl.style.display =\n",
              "          google.colab.kernel.accessAllowed ? 'block' : 'none';\n",
              "\n",
              "        async function convertToInteractive(key) {\n",
              "          const element = document.querySelector('#df-e84ada8d-a7cb-4ef0-b3d3-977df1695def');\n",
              "          const dataTable =\n",
              "            await google.colab.kernel.invokeFunction('convertToInteractive',\n",
              "                                                     [key], {});\n",
              "          if (!dataTable) return;\n",
              "\n",
              "          const docLinkHtml = 'Like what you see? Visit the ' +\n",
              "            '<a target=\"_blank\" href=https://colab.research.google.com/notebooks/data_table.ipynb>data table notebook</a>'\n",
              "            + ' to learn more about interactive tables.';\n",
              "          element.innerHTML = '';\n",
              "          dataTable['output_type'] = 'display_data';\n",
              "          await google.colab.output.renderOutput(dataTable, element);\n",
              "          const docLink = document.createElement('div');\n",
              "          docLink.innerHTML = docLinkHtml;\n",
              "          element.appendChild(docLink);\n",
              "        }\n",
              "      </script>\n",
              "    </div>\n",
              "  </div>\n",
              "  "
            ],
            "text/plain": [
              "        age  sex       bmi     steps  children  smoker  region   charges  \\\n",
              "0  0.021739    0  0.321227  0.001284       0.0       1       3  0.251611   \n",
              "1  0.000000    1  0.479150  0.001141       0.2       0       2  0.009636   \n",
              "2  0.217391    1  0.458434  0.001284       0.6       0       2  0.053115   \n",
              "3  0.326087    1  0.181464  0.999857       0.0       0       1  0.333010   \n",
              "4  0.304348    1  0.347592  0.714693       0.0       0       1  0.043816   \n",
              "\n",
              "   insuranceclaim  \n",
              "0               1  \n",
              "1               1  \n",
              "2               0  \n",
              "3               0  \n",
              "4               1  "
            ]
          },
          "execution_count": 51,
          "metadata": {},
          "output_type": "execute_result"
        }
      ],
      "source": [
        "df.head()"
      ]
    },
    {
      "attachments": {},
      "cell_type": "markdown",
      "metadata": {
        "id": "iWvvGlNZ1D8_"
      },
      "source": [
        "Karena problem pada data ini adalah skala yang tidak sama pada semua kolom, maka setiap data akan dinormalisasi menggunakan MinMax agar semua data memiliki skala yang sama.\n",
        "\n",
        "Saya memilih MinMax karena scaler ini menskalakan data ke kisaran tetap antara 0 dan 1 serta berguna ketika data memiliki kisaran terbatas."
      ]
    },
    {
      "attachments": {},
      "cell_type": "markdown",
      "metadata": {
        "id": "XTUQmRyLTbHL"
      },
      "source": [
        "# **1b. Split Data Training, Test and Validation**"
      ]
    },
    {
      "cell_type": "code",
      "execution_count": null,
      "metadata": {
        "id": "V4L82tzyRztg"
      },
      "outputs": [],
      "source": [
        "df_input=df[[\"age\",\"sex\",\"bmi\",\"steps\",\"children\",\"smoker\",\"region\",\"charges\"]]\n",
        "df_target=df[['insuranceclaim']]\n",
        "\n",
        "from sklearn.model_selection import train_test_split\n",
        "\n",
        "#split training and testing data\n",
        "X_train, X_test, y_train, y_test = train_test_split(df_input, df_target, test_size=0.2)\n",
        "\n",
        "#split testing and validation data\n",
        "X_test, X_val, y_test, y_val = train_test_split(X_test, y_test, test_size=0.5)"
      ]
    },
    {
      "cell_type": "code",
      "execution_count": null,
      "metadata": {
        "colab": {
          "base_uri": "https://localhost:8080/"
        },
        "id": "CIZ4BYcw_AGQ",
        "outputId": "3a61edea-e166-4774-b01e-80fe51211917"
      },
      "outputs": [
        {
          "name": "stdout",
          "output_type": "stream",
          "text": [
            "Training : 1070\n",
            "Testing : 134\n",
            "Validation : 134\n"
          ]
        }
      ],
      "source": [
        "print(\"Training :\", len(X_train))\n",
        "print(\"Testing :\", len(X_val))\n",
        "print(\"Validation :\", len(X_test))"
      ]
    },
    {
      "attachments": {},
      "cell_type": "markdown",
      "metadata": {
        "id": "QUz-ymjHy3ph"
      },
      "source": [
        "Split data menjadi tiga bagian yaitu data training sebanyak 80%, data test sebanyak 10% dan data validasi sebanyak 10% menggunakan sklearn"
      ]
    },
    {
      "attachments": {},
      "cell_type": "markdown",
      "metadata": {
        "id": "cYQUT-3vU1vG"
      },
      "source": [
        "# **1c. Baseline Architecture**"
      ]
    },
    {
      "cell_type": "code",
      "execution_count": null,
      "metadata": {
        "colab": {
          "base_uri": "https://localhost:8080/"
        },
        "id": "IIL2AsKW1jjX",
        "outputId": "5399871d-1771-4bb9-bb78-3783069580b5"
      },
      "outputs": [
        {
          "name": "stdout",
          "output_type": "stream",
          "text": [
            "Model: \"sequential_3\"\n",
            "_________________________________________________________________\n",
            " Layer (type)                Output Shape              Param #   \n",
            "=================================================================\n",
            " HiddenLayer_1 (Dense)       (None, 16)                144       \n",
            "                                                                 \n",
            " HiddenLayer_2 (Dense)       (None, 16)                272       \n",
            "                                                                 \n",
            " OutputLayer (Dense)         (None, 1)                 17        \n",
            "                                                                 \n",
            "=================================================================\n",
            "Total params: 433\n",
            "Trainable params: 433\n",
            "Non-trainable params: 0\n",
            "_________________________________________________________________\n",
            "None\n"
          ]
        }
      ],
      "source": [
        "import tensorflow as tf\n",
        "import keras\n",
        "from tensorflow.keras.models import Sequential\n",
        "\n",
        "n = 8\n",
        "num_classes = 1\n",
        "\n",
        "model_1c = keras.models.Sequential()\n",
        "model_1c.add(tf.keras.Input(shape=(n,)))\n",
        "\n",
        "model_1c.add(keras.layers.core.Dense(2 * n, activation='relu', name=\"HiddenLayer_1\"))\n",
        "model_1c.add(keras.layers.core.Dense(2 * n, activation='relu', name=\"HiddenLayer_2\"))\n",
        "model_1c.add(keras.layers.core.Dense(num_classes, activation='sigmoid', name=\"OutputLayer\"))\n",
        "\n",
        "model_1c.compile(optimizer='sgd', loss='binary_crossentropy', metrics=['accuracy'])\n",
        "\n",
        "print(model_1c.summary())"
      ]
    },
    {
      "attachments": {},
      "cell_type": "markdown",
      "metadata": {
        "id": "bsz4Clvo1wRQ"
      },
      "source": [
        "Arsitektur baseline sesuai dengan kriteria soal dimana terdapat n nodes pada input layer, 2 buah hidden layer dengan banyak 2 x n nodes awal dan output layer banyak kelasnya 1 karena menggunakan activation function sigmoid dan menggunakan RelU untuk setiap hidden layernya.\n",
        "\n",
        "Pada model arsitektur baseline ini saya menggunakan optimizer sgd dan loss menggunakan binary_crossentropy."
      ]
    },
    {
      "cell_type": "code",
      "execution_count": null,
      "metadata": {
        "colab": {
          "base_uri": "https://localhost:8080/"
        },
        "id": "g4WW83AP1uhY",
        "outputId": "b4abe5e2-d064-483d-b224-b24c72944b7b"
      },
      "outputs": [
        {
          "name": "stdout",
          "output_type": "stream",
          "text": [
            "Epoch 1/10\n",
            "34/34 [==============================] - 1s 8ms/step - loss: 0.6591 - accuracy: 0.6103 - val_loss: 0.6349 - val_accuracy: 0.6642\n",
            "Epoch 2/10\n",
            "34/34 [==============================] - 0s 3ms/step - loss: 0.6317 - accuracy: 0.6467 - val_loss: 0.6201 - val_accuracy: 0.6642\n",
            "Epoch 3/10\n",
            "34/34 [==============================] - 0s 3ms/step - loss: 0.6203 - accuracy: 0.6523 - val_loss: 0.6103 - val_accuracy: 0.6567\n",
            "Epoch 4/10\n",
            "34/34 [==============================] - 0s 3ms/step - loss: 0.6116 - accuracy: 0.6729 - val_loss: 0.6019 - val_accuracy: 0.6716\n",
            "Epoch 5/10\n",
            "34/34 [==============================] - 0s 2ms/step - loss: 0.6036 - accuracy: 0.6888 - val_loss: 0.5941 - val_accuracy: 0.6642\n",
            "Epoch 6/10\n",
            "34/34 [==============================] - 0s 4ms/step - loss: 0.5956 - accuracy: 0.6963 - val_loss: 0.5862 - val_accuracy: 0.6716\n",
            "Epoch 7/10\n",
            "34/34 [==============================] - 0s 4ms/step - loss: 0.5880 - accuracy: 0.7093 - val_loss: 0.5785 - val_accuracy: 0.6716\n",
            "Epoch 8/10\n",
            "34/34 [==============================] - 0s 4ms/step - loss: 0.5813 - accuracy: 0.7140 - val_loss: 0.5714 - val_accuracy: 0.6791\n",
            "Epoch 9/10\n",
            "34/34 [==============================] - 0s 4ms/step - loss: 0.5746 - accuracy: 0.7159 - val_loss: 0.5648 - val_accuracy: 0.7164\n",
            "Epoch 10/10\n",
            "34/34 [==============================] - 0s 4ms/step - loss: 0.5686 - accuracy: 0.7243 - val_loss: 0.5585 - val_accuracy: 0.7164\n"
          ]
        }
      ],
      "source": [
        "history=model_1c.fit(X_train, y_train, epochs=10, validation_data=(X_val, y_val))"
      ]
    },
    {
      "attachments": {},
      "cell_type": "markdown",
      "metadata": {
        "id": "jXMJNHh_2xaK"
      },
      "source": [
        "Pada model ini akurasi yang dihasilkan sebesar kurang lebih nilai accuracy seperti pada output diatas"
      ]
    },
    {
      "attachments": {},
      "cell_type": "markdown",
      "metadata": {
        "id": "YOyhU2-SHcw7"
      },
      "source": [
        "# **1d. Modifikasi Arsitektur Baseline**"
      ]
    },
    {
      "attachments": {},
      "cell_type": "markdown",
      "metadata": {
        "id": "byNI2K6O_eoy"
      },
      "source": [
        "Pada no.1d saya mengganti dan tuning hyperparameter sepreti merubah optimizer menjadi adam, mengubah learning rate menjadi 0.01,  merubah epoch serta merubah arsitkur model dengan menambahkan 1 hidden layer dan menambahkan jumlah neuron pada setiap layer. Alasan:\n",
        "\n",
        "*   Saya menganti optimizer dari sgd menjadi adam karena, optimizer adam lebih cocok untuk digunakan pada kasus klasifikasi.\n",
        "*   Saya merubah epoch untuk menemukan titik optimal dalam proses training, di mana model mampu mempelajari pola yang paling relevan pada data tanpa terlalu overfitting pada data training. \n",
        "*   Dengan menambahkan hidden layer dan meningkatkan jumlah neuron pada setiap layer, dapat meningkatkan kapasitas model dan memberikan kemampuan lebih dalam mempelajari fitur-fitur yang terdapat pada data.\n",
        "*   Saya merubah learning rate menjadi 0.01 untuk menemukan nilai yang optimal agar model dapat mencapai konvergensi dengan cepat dan stabil."
      ]
    },
    {
      "cell_type": "code",
      "execution_count": null,
      "metadata": {
        "colab": {
          "base_uri": "https://localhost:8080/"
        },
        "id": "VtO1oI0bHlFF",
        "outputId": "b8ecef0c-f157-41f8-d674-7d0643ea072b"
      },
      "outputs": [
        {
          "name": "stdout",
          "output_type": "stream",
          "text": [
            "Model: \"Model_1d\"\n",
            "_________________________________________________________________\n",
            " Layer (type)                Output Shape              Param #   \n",
            "=================================================================\n",
            " HiddenLayer_1 (Dense)       (None, 48)                432       \n",
            "                                                                 \n",
            " HiddenLayer_2 (Dense)       (None, 48)                2352      \n",
            "                                                                 \n",
            " HiddenLayer_3 (Dense)       (None, 48)                2352      \n",
            "                                                                 \n",
            " OutputLayer (Dense)         (None, 1)                 49        \n",
            "                                                                 \n",
            "=================================================================\n",
            "Total params: 5,185\n",
            "Trainable params: 5,185\n",
            "Non-trainable params: 0\n",
            "_________________________________________________________________\n",
            "None\n"
          ]
        }
      ],
      "source": [
        "import tensorflow as tf\n",
        "import keras\n",
        "from tensorflow.keras.models import Sequential\n",
        "\n",
        "n = 8  \n",
        "num_classes = 1\n",
        "\n",
        "model_1d = keras.models.Sequential(name=\"Model_1d\")\n",
        "model_1d.add(tf.keras.Input(shape=(n,)))\n",
        "\n",
        "model_1d.add(keras.layers.core.Dense(2 * n * 3, activation='relu', name=\"HiddenLayer_1\"))\n",
        "model_1d.add(keras.layers.core.Dense(2 * n * 3, activation='relu', name=\"HiddenLayer_2\"))\n",
        "model_1d.add(keras.layers.core.Dense(2 * n * 3, activation='relu', name=\"HiddenLayer_3\"))\n",
        "model_1d.add(keras.layers.core.Dense(num_classes, activation='sigmoid', name=\"OutputLayer\"))\n",
        "\n",
        "opt = keras.optimizers.Adam(learning_rate=0.01)\n",
        "\n",
        "model_1d.compile(optimizer=opt, loss='binary_crossentropy', metrics=['accuracy'])\n",
        "\n",
        "print(model_1d.summary())"
      ]
    },
    {
      "cell_type": "code",
      "execution_count": null,
      "metadata": {
        "colab": {
          "base_uri": "https://localhost:8080/"
        },
        "id": "_e7-AadkIKFe",
        "outputId": "0e6919cd-d4c8-4262-feee-4d0e1d2cc4b1"
      },
      "outputs": [
        {
          "name": "stdout",
          "output_type": "stream",
          "text": [
            "Epoch 1/20\n",
            "34/34 [==============================] - 1s 19ms/step - loss: 0.5245 - accuracy: 0.7355 - val_loss: 0.4566 - val_accuracy: 0.8060\n",
            "Epoch 2/20\n",
            "34/34 [==============================] - 0s 7ms/step - loss: 0.4073 - accuracy: 0.8168 - val_loss: 0.4116 - val_accuracy: 0.8507\n",
            "Epoch 3/20\n",
            "34/34 [==============================] - 0s 5ms/step - loss: 0.4006 - accuracy: 0.8271 - val_loss: 0.3772 - val_accuracy: 0.7985\n",
            "Epoch 4/20\n",
            "34/34 [==============================] - 0s 4ms/step - loss: 0.3506 - accuracy: 0.8505 - val_loss: 0.3894 - val_accuracy: 0.7910\n",
            "Epoch 5/20\n",
            "34/34 [==============================] - 0s 4ms/step - loss: 0.3327 - accuracy: 0.8626 - val_loss: 0.3054 - val_accuracy: 0.8955\n",
            "Epoch 6/20\n",
            "34/34 [==============================] - 0s 4ms/step - loss: 0.3060 - accuracy: 0.8626 - val_loss: 0.3325 - val_accuracy: 0.8433\n",
            "Epoch 7/20\n",
            "34/34 [==============================] - 0s 4ms/step - loss: 0.2863 - accuracy: 0.8766 - val_loss: 0.2784 - val_accuracy: 0.9030\n",
            "Epoch 8/20\n",
            "34/34 [==============================] - 0s 4ms/step - loss: 0.2696 - accuracy: 0.8804 - val_loss: 0.2926 - val_accuracy: 0.8731\n",
            "Epoch 9/20\n",
            "34/34 [==============================] - 0s 6ms/step - loss: 0.2571 - accuracy: 0.8897 - val_loss: 0.2566 - val_accuracy: 0.9328\n",
            "Epoch 10/20\n",
            "34/34 [==============================] - 0s 5ms/step - loss: 0.2817 - accuracy: 0.8860 - val_loss: 0.3549 - val_accuracy: 0.8358\n",
            "Epoch 11/20\n",
            "34/34 [==============================] - 0s 5ms/step - loss: 0.2723 - accuracy: 0.8813 - val_loss: 0.2694 - val_accuracy: 0.8881\n",
            "Epoch 12/20\n",
            "34/34 [==============================] - 0s 5ms/step - loss: 0.2457 - accuracy: 0.8832 - val_loss: 0.2848 - val_accuracy: 0.8881\n",
            "Epoch 13/20\n",
            "34/34 [==============================] - 0s 5ms/step - loss: 0.2325 - accuracy: 0.9009 - val_loss: 0.2809 - val_accuracy: 0.9030\n",
            "Epoch 14/20\n",
            "34/34 [==============================] - 0s 5ms/step - loss: 0.2224 - accuracy: 0.9028 - val_loss: 0.4255 - val_accuracy: 0.8060\n",
            "Epoch 15/20\n",
            "34/34 [==============================] - 0s 4ms/step - loss: 0.2221 - accuracy: 0.8916 - val_loss: 0.2596 - val_accuracy: 0.8955\n",
            "Epoch 16/20\n",
            "34/34 [==============================] - 0s 4ms/step - loss: 0.2398 - accuracy: 0.8991 - val_loss: 0.2959 - val_accuracy: 0.8806\n",
            "Epoch 17/20\n",
            "34/34 [==============================] - 0s 4ms/step - loss: 0.2060 - accuracy: 0.9000 - val_loss: 0.2555 - val_accuracy: 0.9179\n",
            "Epoch 18/20\n",
            "34/34 [==============================] - 0s 3ms/step - loss: 0.2044 - accuracy: 0.9037 - val_loss: 0.2608 - val_accuracy: 0.9254\n",
            "Epoch 19/20\n",
            "34/34 [==============================] - 0s 3ms/step - loss: 0.2040 - accuracy: 0.9009 - val_loss: 0.2073 - val_accuracy: 0.9104\n",
            "Epoch 20/20\n",
            "34/34 [==============================] - 0s 3ms/step - loss: 0.1994 - accuracy: 0.9037 - val_loss: 0.3921 - val_accuracy: 0.8433\n"
          ]
        }
      ],
      "source": [
        "history=model_1d.fit(X_train, y_train, epochs=20, validation_data=(X_val, y_val))"
      ]
    },
    {
      "cell_type": "code",
      "execution_count": null,
      "metadata": {
        "colab": {
          "base_uri": "https://localhost:8080/"
        },
        "id": "ohy8_pvGCa0s",
        "outputId": "0b9ebf41-922f-443d-ee50-e57fbc67fcd9"
      },
      "outputs": [
        {
          "name": "stdout",
          "output_type": "stream",
          "text": [
            "5/5 [==============================] - 0s 3ms/step - loss: 0.5620 - accuracy: 0.7313\n",
            "5/5 [==============================] - 0s 3ms/step - loss: 0.2225 - accuracy: 0.8881\n",
            "Test accuracy: 0.7313432693481445\n",
            "Test accuracy: 0.888059675693512\n"
          ]
        }
      ],
      "source": [
        "test_loss, test_acc1 = model_1c.evaluate(X_test, y_test)\n",
        "test_loss, test_acc2 = model_1d.evaluate(X_test, y_test)\n",
        "print('Test accuracy:', test_acc1)\n",
        "print('Test accuracy:', test_acc2)"
      ]
    },
    {
      "attachments": {},
      "cell_type": "markdown",
      "metadata": {
        "id": "LYCREiRrCNE8"
      },
      "source": [
        "Dengan melakukan tuning hyperparameter dan arsitekturnya, performa dan akurasi yang dihasilkan oleh model_1d lebih baik dibandingkan model_1c"
      ]
    },
    {
      "attachments": {},
      "cell_type": "markdown",
      "metadata": {
        "id": "8UALPSZ0HnkP"
      },
      "source": [
        "# **1e. Evaluasi Arsitektur**"
      ]
    },
    {
      "attachments": {},
      "cell_type": "markdown",
      "metadata": {
        "id": "XngJGXCgLv_6"
      },
      "source": [
        "Evaluasi untuk model 1c"
      ]
    },
    {
      "cell_type": "code",
      "execution_count": null,
      "metadata": {
        "colab": {
          "base_uri": "https://localhost:8080/"
        },
        "id": "YurWRtPFUZjR",
        "outputId": "80e8d399-b212-4d40-ca4e-0b330537c0e8"
      },
      "outputs": [
        {
          "name": "stdout",
          "output_type": "stream",
          "text": [
            "Model: \"sequential_7\"\n",
            "_________________________________________________________________\n",
            " Layer (type)                Output Shape              Param #   \n",
            "=================================================================\n",
            " HiddenLayer_1 (Dense)       (None, 16)                144       \n",
            "                                                                 \n",
            " HiddenLayer_2 (Dense)       (None, 16)                272       \n",
            "                                                                 \n",
            " OutputLayer (Dense)         (None, 1)                 17        \n",
            "                                                                 \n",
            "=================================================================\n",
            "Total params: 433\n",
            "Trainable params: 433\n",
            "Non-trainable params: 0\n",
            "_________________________________________________________________\n",
            "None\n"
          ]
        }
      ],
      "source": [
        "import tensorflow as tf\n",
        "import keras\n",
        "from tensorflow.keras.models import Sequential\n",
        "\n",
        "n = 8\n",
        "num_classes = 1\n",
        "\n",
        "model_1ce = keras.models.Sequential()\n",
        "model_1ce.add(tf.keras.Input(shape=(n,)))\n",
        "\n",
        "model_1ce.add(keras.layers.core.Dense(2 * n, activation='relu', name=\"HiddenLayer_1\"))\n",
        "model_1ce.add(keras.layers.core.Dense(2 * n, activation='relu', name=\"HiddenLayer_2\"))\n",
        "model_1ce.add(keras.layers.core.Dense(num_classes, activation='sigmoid', name=\"OutputLayer\"))\n",
        "\n",
        "model_1ce.compile(optimizer='sgd', loss='binary_crossentropy', metrics=['accuracy', tf.keras.metrics.Precision(), tf.keras.metrics.Recall()])\n",
        "\n",
        "print(model_1ce.summary())"
      ]
    },
    {
      "cell_type": "code",
      "execution_count": null,
      "metadata": {
        "colab": {
          "base_uri": "https://localhost:8080/"
        },
        "id": "xOLzwTpZWNfx",
        "outputId": "87040569-c1ad-4b11-ec8d-c8d400417a6e"
      },
      "outputs": [
        {
          "name": "stdout",
          "output_type": "stream",
          "text": [
            "Epoch 1/10\n",
            "34/34 [==============================] - 1s 12ms/step - loss: 0.7296 - accuracy: 0.4495 - precision_5: 0.6051 - recall_3: 0.1873 - val_loss: 0.7080 - val_accuracy: 0.5149 - val_precision_5: 0.6032 - val_recall_3: 0.4872\n",
            "Epoch 2/10\n",
            "34/34 [==============================] - 0s 4ms/step - loss: 0.6928 - accuracy: 0.5374 - precision_5: 0.5960 - recall_3: 0.6651 - val_loss: 0.6886 - val_accuracy: 0.5075 - val_precision_5: 0.5526 - val_recall_3: 0.8077\n",
            "Epoch 3/10\n",
            "34/34 [==============================] - 0s 5ms/step - loss: 0.6788 - accuracy: 0.5664 - precision_5: 0.5832 - recall_3: 0.9238 - val_loss: 0.6770 - val_accuracy: 0.5597 - val_precision_5: 0.5725 - val_recall_3: 0.9615\n",
            "Epoch 4/10\n",
            "34/34 [==============================] - 0s 5ms/step - loss: 0.6705 - accuracy: 0.5841 - precision_5: 0.5882 - recall_3: 0.9794 - val_loss: 0.6683 - val_accuracy: 0.5821 - val_precision_5: 0.5821 - val_recall_3: 1.0000\n",
            "Epoch 5/10\n",
            "34/34 [==============================] - 0s 5ms/step - loss: 0.6637 - accuracy: 0.5869 - precision_5: 0.5880 - recall_3: 0.9968 - val_loss: 0.6609 - val_accuracy: 0.5821 - val_precision_5: 0.5821 - val_recall_3: 1.0000\n",
            "Epoch 6/10\n",
            "34/34 [==============================] - 0s 5ms/step - loss: 0.6577 - accuracy: 0.5935 - precision_5: 0.5919 - recall_3: 0.9968 - val_loss: 0.6544 - val_accuracy: 0.5821 - val_precision_5: 0.5821 - val_recall_3: 1.0000\n",
            "Epoch 7/10\n",
            "34/34 [==============================] - 0s 4ms/step - loss: 0.6523 - accuracy: 0.5935 - precision_5: 0.5919 - recall_3: 0.9968 - val_loss: 0.6479 - val_accuracy: 0.5821 - val_precision_5: 0.5821 - val_recall_3: 1.0000\n",
            "Epoch 8/10\n",
            "34/34 [==============================] - 0s 4ms/step - loss: 0.6472 - accuracy: 0.5935 - precision_5: 0.5919 - recall_3: 0.9968 - val_loss: 0.6430 - val_accuracy: 0.5896 - val_precision_5: 0.5865 - val_recall_3: 1.0000\n",
            "Epoch 9/10\n",
            "34/34 [==============================] - 0s 4ms/step - loss: 0.6424 - accuracy: 0.6196 - precision_5: 0.6084 - recall_3: 0.9937 - val_loss: 0.6381 - val_accuracy: 0.5821 - val_precision_5: 0.5821 - val_recall_3: 1.0000\n",
            "Epoch 10/10\n",
            "34/34 [==============================] - 0s 4ms/step - loss: 0.6381 - accuracy: 0.6215 - precision_5: 0.6093 - recall_3: 0.9952 - val_loss: 0.6334 - val_accuracy: 0.6045 - val_precision_5: 0.5954 - val_recall_3: 1.0000\n"
          ]
        }
      ],
      "source": [
        "history=model_1ce.fit(X_train, y_train, epochs=10, validation_data=(X_val, y_val))"
      ]
    },
    {
      "cell_type": "code",
      "execution_count": null,
      "metadata": {
        "colab": {
          "base_uri": "https://localhost:8080/"
        },
        "id": "8VOkzKXivisi",
        "outputId": "a6df430a-9603-4c1a-818f-139855792276"
      },
      "outputs": [
        {
          "name": "stdout",
          "output_type": "stream",
          "text": [
            "5/5 [==============================] - 0s 4ms/step - loss: 0.6415 - accuracy: 0.5821 - precision_5: 0.5736 - recall_3: 0.9867\n",
            "Test Accuracy: 0.5820895433425903\n",
            "Test Precision: 0.5736433863639832\n",
            "Test Recall: 0.9866666793823242\n",
            "Test F1 Score: 0.7254901799312095\n"
          ]
        }
      ],
      "source": [
        "test_loss, test_acc, test_prec, test_rec = model_1ce.evaluate(X_test, y_test)\n",
        "f1_score = 2 * (test_prec * test_rec) / (test_prec + test_rec)\n",
        "print('Test Accuracy:', test_acc)\n",
        "print('Test Precision:', test_prec)\n",
        "print('Test Recall:', test_rec)\n",
        "print('Test F1 Score:', f1_score)"
      ]
    },
    {
      "attachments": {},
      "cell_type": "markdown",
      "metadata": {
        "id": "vYXdVz99EJQw"
      },
      "source": [
        "**Ringkasan Evaluasi**\n",
        "\n",
        "*   Accuracy adalah ukuran seberapa baik model klasifikasi memprediksi label yang benar. Ini dihitung dengan membagi jumlah prediksi yang benar dengan jumlah total prediksi. Dalam kasus ini, accuracy adalah 0.5820895433425903, yang berarti model ini benar sekitar 58%.\n",
        "*   Precision adalah ukuran seberapa banyak prediksi positif yang benar-benar positif. Dalam kasus ini, precision adalah 0.5736433863639832, yang berarti dari semua prediksi positif yang dibuat oleh model ini, sekitar 57% adalah benar.\n",
        "\n",
        "*   Recall adalah ukuran seberapa banyak positif aktual yang diprediksi dengan benar. Dalam kasus ini, test recall adalah 0.9866666793823242, yang berarti dari semua positif aktual dalam data ini, sekitar 99% diprediksi dengan benar oleh model ini.\n",
        "\n",
        "*   F1 Score adalah ukuran keseimbangan antara test precision dan test recall. Dalam kasus ini, F1 Score adalah 0.7254901799312095, yang berarti model ini memiliki kinerja yang baik dalam hal presisi dan recall sebesar 73%.\n",
        "\n",
        "\n",
        "Berdasarkan hasil tersebut, model ini sudah cukup baik dari akurasi dan memiliki keseimbangan (F1 Score) yang cukup baik antara precision dan recall, namun untuk memperbaiki performa model ini, harus dilakukan dengan cara mengganti hyperparameter dan merubah arsitektur baseline model ini pada model 1d."
      ]
    },
    {
      "attachments": {},
      "cell_type": "markdown",
      "metadata": {
        "id": "N2Ns75BTNJEV"
      },
      "source": [
        "Evaluasi model 1d"
      ]
    },
    {
      "cell_type": "code",
      "execution_count": null,
      "metadata": {
        "colab": {
          "base_uri": "https://localhost:8080/"
        },
        "id": "LXhGZfpTMMgT",
        "outputId": "5e2771d4-50a0-4271-affd-16f67f543f0a"
      },
      "outputs": [
        {
          "name": "stdout",
          "output_type": "stream",
          "text": [
            "Model: \"Model_1d\"\n",
            "_________________________________________________________________\n",
            " Layer (type)                Output Shape              Param #   \n",
            "=================================================================\n",
            " HiddenLayer_1 (Dense)       (None, 80)                720       \n",
            "                                                                 \n",
            " HiddenLayer_2 (Dense)       (None, 80)                6480      \n",
            "                                                                 \n",
            " HiddenLayer_3 (Dense)       (None, 80)                6480      \n",
            "                                                                 \n",
            " OutputLayer (Dense)         (None, 1)                 81        \n",
            "                                                                 \n",
            "=================================================================\n",
            "Total params: 13,761\n",
            "Trainable params: 13,761\n",
            "Non-trainable params: 0\n",
            "_________________________________________________________________\n",
            "None\n"
          ]
        }
      ],
      "source": [
        "import tensorflow as tf\n",
        "import keras\n",
        "from tensorflow.keras.models import Sequential\n",
        "\n",
        "n = 8  \n",
        "num_classes = 1\n",
        "\n",
        "model_1ed = keras.models.Sequential(name=\"Model_1d\")\n",
        "model_1ed.add(tf.keras.Input(shape=(n,)))\n",
        "\n",
        "model_1ed.add(keras.layers.core.Dense(2 * n * 5, activation='relu', name=\"HiddenLayer_1\"))\n",
        "model_1ed.add(keras.layers.core.Dense(2 * n * 5, activation='relu', name=\"HiddenLayer_2\"))\n",
        "model_1ed.add(keras.layers.core.Dense(2 * n * 5, activation='relu', name=\"HiddenLayer_3\"))\n",
        "model_1ed.add(keras.layers.core.Dense(num_classes, activation='sigmoid', name=\"OutputLayer\"))\n",
        "\n",
        "opt = keras.optimizers.Adam(learning_rate=0.01)\n",
        "\n",
        "model_1ed.compile(optimizer=opt, loss='binary_crossentropy', metrics=['accuracy', tf.keras.metrics.Precision(), tf.keras.metrics.Recall()])\n",
        "\n",
        "print(model_1ed.summary())"
      ]
    },
    {
      "cell_type": "code",
      "execution_count": null,
      "metadata": {
        "colab": {
          "base_uri": "https://localhost:8080/"
        },
        "id": "2xcEIHlnMMt4",
        "outputId": "a3232886-120c-449a-bf90-919883575d53"
      },
      "outputs": [
        {
          "name": "stdout",
          "output_type": "stream",
          "text": [
            "Epoch 1/20\n",
            "34/34 [==============================] - 2s 13ms/step - loss: 0.5145 - accuracy: 0.7542 - precision_3: 0.7793 - recall_1: 0.8127 - val_loss: 0.4183 - val_accuracy: 0.7985 - val_precision_3: 0.8806 - val_recall_1: 0.7564\n",
            "Epoch 2/20\n",
            "34/34 [==============================] - 0s 3ms/step - loss: 0.3720 - accuracy: 0.8402 - precision_3: 0.8768 - recall_1: 0.8476 - val_loss: 0.3685 - val_accuracy: 0.8507 - val_precision_3: 0.8919 - val_recall_1: 0.8462\n",
            "Epoch 3/20\n",
            "34/34 [==============================] - 0s 3ms/step - loss: 0.3723 - accuracy: 0.8514 - precision_3: 0.8829 - recall_1: 0.8619 - val_loss: 0.3704 - val_accuracy: 0.8134 - val_precision_3: 0.9077 - val_recall_1: 0.7564\n",
            "Epoch 4/20\n",
            "34/34 [==============================] - 0s 3ms/step - loss: 0.3374 - accuracy: 0.8579 - precision_3: 0.8931 - recall_1: 0.8619 - val_loss: 0.3473 - val_accuracy: 0.8507 - val_precision_3: 0.8537 - val_recall_1: 0.8974\n",
            "Epoch 5/20\n",
            "34/34 [==============================] - 0s 3ms/step - loss: 0.3043 - accuracy: 0.8841 - precision_3: 0.9107 - recall_1: 0.8905 - val_loss: 0.4398 - val_accuracy: 0.7910 - val_precision_3: 0.9464 - val_recall_1: 0.6795\n",
            "Epoch 6/20\n",
            "34/34 [==============================] - 0s 3ms/step - loss: 0.3026 - accuracy: 0.8692 - precision_3: 0.9070 - recall_1: 0.8667 - val_loss: 0.3672 - val_accuracy: 0.8284 - val_precision_3: 1.0000 - val_recall_1: 0.7051\n",
            "Epoch 7/20\n",
            "34/34 [==============================] - 0s 3ms/step - loss: 0.2742 - accuracy: 0.8766 - precision_3: 0.9069 - recall_1: 0.8810 - val_loss: 0.4191 - val_accuracy: 0.8060 - val_precision_3: 1.0000 - val_recall_1: 0.6667\n",
            "Epoch 8/20\n",
            "34/34 [==============================] - 0s 4ms/step - loss: 0.2768 - accuracy: 0.8682 - precision_3: 0.8989 - recall_1: 0.8746 - val_loss: 0.2872 - val_accuracy: 0.8731 - val_precision_3: 1.0000 - val_recall_1: 0.7821\n",
            "Epoch 9/20\n",
            "34/34 [==============================] - 0s 3ms/step - loss: 0.2305 - accuracy: 0.9037 - precision_3: 0.9370 - recall_1: 0.8968 - val_loss: 0.2854 - val_accuracy: 0.8657 - val_precision_3: 0.9286 - val_recall_1: 0.8333\n",
            "Epoch 10/20\n",
            "34/34 [==============================] - 0s 3ms/step - loss: 0.2242 - accuracy: 0.9019 - precision_3: 0.9057 - recall_1: 0.9302 - val_loss: 0.2554 - val_accuracy: 0.9179 - val_precision_3: 0.9855 - val_recall_1: 0.8718\n",
            "Epoch 11/20\n",
            "34/34 [==============================] - 0s 4ms/step - loss: 0.2473 - accuracy: 0.9037 - precision_3: 0.9085 - recall_1: 0.9302 - val_loss: 0.2324 - val_accuracy: 0.8806 - val_precision_3: 0.9697 - val_recall_1: 0.8205\n",
            "Epoch 12/20\n",
            "34/34 [==============================] - 0s 5ms/step - loss: 0.2054 - accuracy: 0.9019 - precision_3: 0.9147 - recall_1: 0.9190 - val_loss: 0.2951 - val_accuracy: 0.8731 - val_precision_3: 0.9067 - val_recall_1: 0.8718\n",
            "Epoch 13/20\n",
            "34/34 [==============================] - 0s 5ms/step - loss: 0.2170 - accuracy: 0.9037 - precision_3: 0.9271 - recall_1: 0.9079 - val_loss: 0.2116 - val_accuracy: 0.9104 - val_precision_3: 0.9459 - val_recall_1: 0.8974\n",
            "Epoch 14/20\n",
            "34/34 [==============================] - 0s 5ms/step - loss: 0.2276 - accuracy: 0.8963 - precision_3: 0.8962 - recall_1: 0.9317 - val_loss: 0.2362 - val_accuracy: 0.9030 - val_precision_3: 0.9333 - val_recall_1: 0.8974\n",
            "Epoch 15/20\n",
            "34/34 [==============================] - 0s 5ms/step - loss: 0.1866 - accuracy: 0.9121 - precision_3: 0.9149 - recall_1: 0.9381 - val_loss: 0.2402 - val_accuracy: 0.9030 - val_precision_3: 0.9710 - val_recall_1: 0.8590\n",
            "Epoch 16/20\n",
            "34/34 [==============================] - 0s 5ms/step - loss: 0.2295 - accuracy: 0.8991 - precision_3: 0.9183 - recall_1: 0.9095 - val_loss: 0.1982 - val_accuracy: 0.9179 - val_precision_3: 0.9589 - val_recall_1: 0.8974\n",
            "Epoch 17/20\n",
            "34/34 [==============================] - 0s 5ms/step - loss: 0.2419 - accuracy: 0.8841 - precision_3: 0.9094 - recall_1: 0.8921 - val_loss: 0.2802 - val_accuracy: 0.8806 - val_precision_3: 1.0000 - val_recall_1: 0.7949\n",
            "Epoch 18/20\n",
            "34/34 [==============================] - 0s 5ms/step - loss: 0.1773 - accuracy: 0.9224 - precision_3: 0.9307 - recall_1: 0.9381 - val_loss: 0.2022 - val_accuracy: 0.9328 - val_precision_3: 0.9726 - val_recall_1: 0.9103\n",
            "Epoch 19/20\n",
            "34/34 [==============================] - 0s 5ms/step - loss: 0.2046 - accuracy: 0.9028 - precision_3: 0.9084 - recall_1: 0.9286 - val_loss: 0.2152 - val_accuracy: 0.9254 - val_precision_3: 0.9722 - val_recall_1: 0.8974\n",
            "Epoch 20/20\n",
            "34/34 [==============================] - 0s 6ms/step - loss: 0.1732 - accuracy: 0.9206 - precision_3: 0.9212 - recall_1: 0.9460 - val_loss: 0.3398 - val_accuracy: 0.9104 - val_precision_3: 0.9714 - val_recall_1: 0.8718\n"
          ]
        }
      ],
      "source": [
        "history=model_1ed.fit(X_train, y_train, epochs=20, validation_data=(X_val, y_val))"
      ]
    },
    {
      "cell_type": "code",
      "execution_count": null,
      "metadata": {
        "colab": {
          "base_uri": "https://localhost:8080/"
        },
        "id": "gXLrp9gKMTI6",
        "outputId": "848ff643-bee8-4d0a-e74a-e11d148313e5"
      },
      "outputs": [
        {
          "name": "stdout",
          "output_type": "stream",
          "text": [
            "5/5 [==============================] - 0s 3ms/step - loss: 0.1635 - accuracy: 0.9328 - precision_3: 0.9231 - recall_1: 0.9600\n",
            "Test Accuracy: 0.9328358173370361\n",
            "Test Precision: 0.9230769276618958\n",
            "Test Recall: 0.9599999785423279\n",
            "Test F1 Score: 0.941176462659282\n"
          ]
        }
      ],
      "source": [
        "test_loss, test_acc, test_prec, test_rec = model_1ed.evaluate(X_test, y_test)\n",
        "f1_score = 2 * (test_prec * test_rec) / (test_prec + test_rec)\n",
        "print('Test Accuracy:', test_acc)\n",
        "print('Test Precision:', test_prec)\n",
        "print('Test Recall:', test_rec)\n",
        "print('Test F1 Score:', f1_score)"
      ]
    },
    {
      "attachments": {},
      "cell_type": "markdown",
      "metadata": {
        "id": "xHd9L2drH5vb"
      },
      "source": [
        "**Ringkasan Evaluasi**\n",
        "\n",
        "*   Accuracy adalah ukuran seberapa baik model klasifikasi memprediksi label yang benar, dihitung dengan membagi jumlah prediksi yang benar dengan jumlah total prediksi. Dalam kasus ini, accuracy adalah 0.9328358173370361, yang berarti model ini benar sekitar 93%.\n",
        "\n",
        "*   Precision adalah ukuran seberapa banyak prediksi positif yang benar-benar positif. Dalam kasus ini, precision adalah 0.9230769276618958, yang berarti dari semua prediksi positif yang dibuat oleh model ini, sekitar 92% adalah benar.\n",
        "\n",
        "\n",
        "*   Recall adalah ukuran seberapa banyak positif aktual yang diprediksi dengan \n",
        "benar. Dalam kasus ini, test recall adalah 0.9599999785423279, yang berarti dari semua positif aktual dalam data ini, sekitar 96% diprediksi dengan benar oleh model ini.\n",
        "\n",
        "\n",
        "*   F1 Score adalah ukuran keseimbangan antara test precision dan test recall. Dalam kasus ini, F1 Score adalah 0.941176462659282, yang berarti model ini memiliki kinerja yang baik dalam hal presisi dan recall, sekitar 94%.\n",
        "\n",
        "Dapat disimpulkan bahwa nilai-nilai ini menunjukkan bahwa model_1d memiliki akurasi, precision, recall dan F1 Score yang cukup tinggi, yang berarti bahwa model ini dapat mengklasifikasikan data dengan baik"
      ]
    }
  ],
  "metadata": {
    "colab": {
      "provenance": [],
      "toc_visible": true
    },
    "kernelspec": {
      "display_name": "Python 3",
      "name": "python3"
    },
    "language_info": {
      "name": "python"
    }
  },
  "nbformat": 4,
  "nbformat_minor": 0
}
